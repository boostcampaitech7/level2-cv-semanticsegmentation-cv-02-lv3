{
 "cells": [
  {
   "cell_type": "code",
   "execution_count": 1,
   "metadata": {},
   "outputs": [
    {
     "name": "stderr",
     "output_type": "stream",
     "text": [
      "/data/ephemeral/conda_envs/torch/lib/python3.10/site-packages/tqdm/auto.py:21: TqdmWarning: IProgress not found. Please update jupyter and ipywidgets. See https://ipywidgets.readthedocs.io/en/stable/user_install.html\n",
      "  from .autonotebook import tqdm as notebook_tqdm\n"
     ]
    }
   ],
   "source": [
    "import sys\n",
    "sys.path.append('../../')\n",
    "\n",
    "import pandas as pd \n",
    "from glob import glob\n",
    "import cv2\n",
    "from inference import decode_rle_to_mask\n",
    "from dataset import get_xray_classes\n",
    "import numpy as np\n",
    "import matplotlib.pyplot as plt\n",
    "from matplotlib.patches import Rectangle\n",
    "import utils\n",
    "from tqdm import tqdm\n",
    "import os"
   ]
  },
  {
   "cell_type": "code",
   "execution_count": 2,
   "metadata": {},
   "outputs": [],
   "source": [
    "# 시각화를 위한 팔레트를 설정합니다.\n",
    "PALETTE = [\n",
    "    (220, 20, 60), (119, 11, 32), (0, 0, 142), (0, 0, 230), (106, 0, 228),\n",
    "    (0, 60, 100), (0, 80, 100), (0, 0, 70), (0, 0, 192), (250, 170, 30),\n",
    "    (100, 170, 30), (220, 220, 0), (175, 116, 175), (250, 0, 30), (165, 42, 42),\n",
    "    (255, 77, 255), (0, 226, 252), (182, 182, 255), (0, 82, 0), (120, 166, 157),\n",
    "    (110, 76, 0), (174, 57, 255), (199, 100, 0), (72, 0, 118), (255, 179, 240),\n",
    "    (0, 125, 92), (209, 0, 151), (188, 208, 182), (0, 220, 176),\n",
    "]\n",
    "\n",
    "# 시각화 함수입니다. 클래스가 2개 이상인 픽셀을 고려하지는 않습니다.\n",
    "def label2rgb(label):\n",
    "    image_size = label.shape[1:] + (3, )\n",
    "    image = np.zeros(image_size, dtype=np.uint8)\n",
    "    \n",
    "    for i, class_label in enumerate(label):\n",
    "        image[class_label == 1] = PALETTE[i]\n",
    "        \n",
    "    return image\n",
    "\n",
    "\n",
    "def seach_matching_paths(image_name, paths):\n",
    "    matching_paths = [path for path in paths if image_name in path]\n",
    "    return matching_paths\n",
    "\n",
    "\n",
    "def get_preds(image_name, df, classes):\n",
    "    index = df['image_name'] == image_name\n",
    "    preds = [[] for _ in range(classes['num_class'])] # 행렬 초기화\n",
    "\n",
    "    for _, row in df[index].iterrows():\n",
    "        c, rle = row['class'], row['rle']\n",
    "        idx = classes['class2idx'][c]\n",
    "        pred = decode_rle_to_mask(rle, height=2048, width=2048)\n",
    "        preds[idx] = pred\n",
    "\n",
    "    preds = np.stack(preds, 0)\n",
    "    return preds\n",
    "    \n",
    "\n",
    "def color_norm(color):\n",
    "    return [i/255. for i in color]\n",
    "\n",
    "def plot_gt(anns_path, classes, ax, color=None):\n",
    "    anns = utils.read_json(anns_path)['annotations']\n",
    "\n",
    "    for ann in anns:\n",
    "        class_name = ann[\"label\"]\n",
    "        class_ind = classes['class2idx'][class_name]\n",
    "        points = np.array(ann[\"points\"])\n",
    "\n",
    "        if color is None:\n",
    "            ax.plot(points[:, 0], points[:, 1], color=color_norm(PALETTE[class_ind]))\n",
    "        else:\n",
    "            ax.plot(points[:, 0], points[:, 1], color=color)\n",
    "\n",
    "\n",
    "def get_crop_coord(mask):\n",
    "    image_size = [2024, 2024]\n",
    "    margin = [50, 50]\n",
    "\n",
    "    y, x = np.where(mask)\n",
    "    x_min, x_max = min(x), max(x)\n",
    "    y_min, y_max = min(y), max(y)\n",
    "    x_min, x_max = x_min - margin[0], x_max + margin[0]\n",
    "    y_min, y_max = y_min - margin[1], y_max + margin[1]\n",
    "\n",
    "    result = [x_min, x_max, y_min, y_max]\n",
    "    result = np.clip(result, 0, image_size[0]).astype(int).tolist()\n",
    "    x_min, x_max, y_min, y_max = result[0], result[1], result[2], result[3]\n",
    "\n",
    "    return x_min, x_max, y_min, y_max\n",
    "\n",
    "\n",
    "def draw_rect(coord, ax, edgecolor='blue'):\n",
    "    x_min, x_max, y_min, y_max = coord\n",
    "    x_width, y_width = x_max-x_min, y_max-y_min\n",
    "    rect = Rectangle((x_min, y_min), x_width, y_width, edgecolor=edgecolor, facecolor='none', linewidth=2)\n",
    "    ax.add_patch(rect)\n"
   ]
  },
  {
   "cell_type": "code",
   "execution_count": 3,
   "metadata": {},
   "outputs": [],
   "source": [
    "data_dir_path = '/data/ephemeral/home/data'\n",
    "\n",
    "image_paths = glob(data_dir_path + '/**/*.png', recursive=True)\n",
    "anns_paths = glob(data_dir_path + '/**/*.json', recursive=True)\n",
    "classes = get_xray_classes()"
   ]
  },
  {
   "cell_type": "code",
   "execution_count": 4,
   "metadata": {},
   "outputs": [],
   "source": [
    "def save_crop_coord(file_path):\n",
    "    df = pd.read_csv(file_path)\n",
    "    image_names = df['image_name'].unique()\n",
    "    df_new = pd.DataFrame(columns=['image_name', 'crop_finger', 'crop_backhand', 'crop_fingerbackhand', 'crop_arm'])\n",
    "\n",
    "    for i, image_name in enumerate(tqdm(image_names[0:10])):\n",
    "        # 예측결과 불러오기\n",
    "        preds = get_preds(image_name, df, classes)\n",
    "\n",
    "        mask_finger = preds[classes['finger_idx']].sum(axis=0)\n",
    "        mask_backhand = preds[classes['backhand_idx']].sum(axis=0)\n",
    "        mask_figerbackhand = preds[classes['fingerbackhand_idx']].sum(axis=0)\n",
    "        mask_arm = preds[classes['arm_idx']].sum(axis=0)\n",
    "\n",
    "        crop_finger = get_crop_coord(mask_finger)\n",
    "        crop_backhand = get_crop_coord(mask_backhand)\n",
    "        crop_fingerbackhand = get_crop_coord(mask_figerbackhand)\n",
    "        crop_arm = get_crop_coord(mask_arm)\n",
    "\n",
    "        df_new.loc[i] = [image_name, crop_finger, crop_backhand, crop_fingerbackhand, crop_arm]\n",
    "\n",
    "    save_name = os.path.basename(file_path)\n",
    "    df_new.to_csv(save_name, index=False)\n",
    "     "
   ]
  },
  {
   "cell_type": "code",
   "execution_count": 5,
   "metadata": {},
   "outputs": [
    {
     "name": "stderr",
     "output_type": "stream",
     "text": [
      "100%|██████████| 10/10 [00:09<00:00,  1.10it/s]\n",
      "100%|██████████| 1/1 [00:22<00:00, 22.94s/it]\n",
      "100%|██████████| 10/10 [00:09<00:00,  1.07it/s]\n"
     ]
    }
   ],
   "source": [
    "file_path_format = '/data/ephemeral/home/Dongjin/level2-cv-semanticsegmentation-cv-02-lv3/Baseline/Dongjin/transformers_1120/trained_models/cont/upernet-convnext-small_cont_size_1024_cont_weight/{mode}_ep_47_vdice_0.9716_upernet-convnext-small_cont_size_1024_cont_weight.csv'\n",
    "modes = ['valid', 'train', 'test']\n",
    "\n",
    "for mode in modes:\n",
    "    file_path = file_path_format.format(mode=mode)\n",
    "    save_crop_coord(file_path)\n",
    "    \n"
   ]
  }
 ],
 "metadata": {
  "kernelspec": {
   "display_name": "torch",
   "language": "python",
   "name": "python3"
  },
  "language_info": {
   "codemirror_mode": {
    "name": "ipython",
    "version": 3
   },
   "file_extension": ".py",
   "mimetype": "text/x-python",
   "name": "python",
   "nbconvert_exporter": "python",
   "pygments_lexer": "ipython3",
   "version": "3.10.13"
  }
 },
 "nbformat": 4,
 "nbformat_minor": 2
}
