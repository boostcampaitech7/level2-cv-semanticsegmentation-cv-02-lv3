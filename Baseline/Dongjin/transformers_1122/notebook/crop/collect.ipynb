{
 "cells": [
  {
   "cell_type": "code",
   "execution_count": 1,
   "metadata": {},
   "outputs": [],
   "source": [
    "import pandas as pd\n",
    "from glob import glob\n",
    "import os\n",
    "\n",
    "import sys\n",
    "sys.path.append('../../')\n",
    "import utils"
   ]
  },
  {
   "cell_type": "code",
   "execution_count": null,
   "metadata": {},
   "outputs": [
    {
     "ename": "SyntaxError",
     "evalue": "invalid syntax (1660634192.py, line 36)",
     "output_type": "error",
     "traceback": [
      "\u001b[0;36m  Cell \u001b[0;32mIn[2], line 36\u001b[0;36m\u001b[0m\n\u001b[0;31m    utils.save_json( , 'result/crop_info.json')\u001b[0m\n\u001b[0m                     ^\u001b[0m\n\u001b[0;31mSyntaxError\u001b[0m\u001b[0;31m:\u001b[0m invalid syntax\n"
     ]
    }
   ],
   "source": [
    "modes = ['train', 'valid', 'test']\n",
    "file_name_format = '{mode}_upernet-convnext-small_cont_size_1024_cont_weight_ep_47_vdice_0.9716.csv'\n",
    "data_dir_path = '/data/ephemeral/home/data'\n",
    "image_paths = glob(data_dir_path + '/**/*.png', recursive=True)\n",
    "\n",
    "result = {}\n",
    "\n",
    "for mode in modes:\n",
    "    file_name = file_name_format.format(mode=mode)\n",
    "    file_path = f'result/{file_name}'\n",
    "    df = pd.read_csv(file_path)\n",
    "\n",
    "    for i, row in df.iterrows():\n",
    "        image_name = row.image_name\n",
    "        target_image_paths = [image_path for image_path in image_paths if image_name in image_path]\n",
    "        if len(target_image_paths) == 0 or 1 < len(target_image_paths):\n",
    "            raise(Exception(\"조건을 만족하는 이미지가 0장이거나 1장 초과입니다.\"))\n",
    "\n",
    "        image_name = os.path.basename(target_image_paths[0])\n",
    "        if image_name in result:\n",
    "            raise(Exception(\"동일한 이미지 이름이 여러 장입니다.\"))\n",
    "        \n",
    "        result[image_name] = {}\n",
    "\n",
    "        for k, v in row.items():\n",
    "            if k == 'image_name':\n",
    "                continue\n",
    "            # v 파싱\n",
    "            v = v.replace(' ', '')\n",
    "            v = v.replace('(', '')\n",
    "            v = v.replace(')', '')\n",
    "            v = [int(i) for i in v.split(',')]\n",
    "            \n",
    "            result[image_name][k] = v\n",
    "\n",
    "utils.save_json(result, 'result/crop_info.json')"
   ]
  },
  {
   "cell_type": "code",
   "execution_count": null,
   "metadata": {},
   "outputs": [
    {
     "ename": "TypeError",
     "evalue": "expected str, bytes or os.PathLike object, not dict",
     "output_type": "error",
     "traceback": [
      "\u001b[0;31m---------------------------------------------------------------------------\u001b[0m",
      "\u001b[0;31mTypeError\u001b[0m                                 Traceback (most recent call last)",
      "Cell \u001b[0;32mIn[77], line 1\u001b[0m\n\u001b[0;32m----> 1\u001b[0m \u001b[43mutils\u001b[49m\u001b[38;5;241;43m.\u001b[39;49m\u001b[43msave_json\u001b[49m\u001b[43m(\u001b[49m\u001b[38;5;124;43m'\u001b[39;49m\u001b[38;5;124;43mresult/crop_info.json\u001b[39;49m\u001b[38;5;124;43m'\u001b[39;49m\u001b[43m,\u001b[49m\u001b[43m \u001b[49m\u001b[43mresult\u001b[49m\u001b[43m)\u001b[49m\n",
      "File \u001b[0;32m~/Dongjin/level2-cv-semanticsegmentation-cv-02-lv3/Baseline/Dongjin/transformers_1122/notebook/crop/../../utils.py:19\u001b[0m, in \u001b[0;36msave_json\u001b[0;34m(dicts, file_path)\u001b[0m\n\u001b[1;32m     18\u001b[0m \u001b[38;5;28;01mdef\u001b[39;00m \u001b[38;5;21msave_json\u001b[39m(dicts, file_path):\n\u001b[0;32m---> 19\u001b[0m     \u001b[38;5;28;01mwith\u001b[39;00m \u001b[38;5;28;43mopen\u001b[39;49m\u001b[43m(\u001b[49m\u001b[43mfile_path\u001b[49m\u001b[43m,\u001b[49m\u001b[43m \u001b[49m\u001b[38;5;124;43m\"\u001b[39;49m\u001b[38;5;124;43mw\u001b[39;49m\u001b[38;5;124;43m\"\u001b[39;49m\u001b[43m)\u001b[49m \u001b[38;5;28;01mas\u001b[39;00m f:\n\u001b[1;32m     20\u001b[0m         json\u001b[38;5;241m.\u001b[39mdump(dicts, f, indent\u001b[38;5;241m=\u001b[39m\u001b[38;5;241m4\u001b[39m)\n",
      "\u001b[0;31mTypeError\u001b[0m: expected str, bytes or os.PathLike object, not dict"
     ]
    }
   ],
   "source": []
  },
  {
   "cell_type": "code",
   "execution_count": null,
   "metadata": {},
   "outputs": [],
   "source": []
  }
 ],
 "metadata": {
  "kernelspec": {
   "display_name": "torch",
   "language": "python",
   "name": "python3"
  },
  "language_info": {
   "codemirror_mode": {
    "name": "ipython",
    "version": 3
   },
   "file_extension": ".py",
   "mimetype": "text/x-python",
   "name": "python",
   "nbconvert_exporter": "python",
   "pygments_lexer": "ipython3",
   "version": "3.10.13"
  }
 },
 "nbformat": 4,
 "nbformat_minor": 2
}
