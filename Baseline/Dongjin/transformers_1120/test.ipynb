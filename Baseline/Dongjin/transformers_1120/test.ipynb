{
 "cells": [
  {
   "cell_type": "code",
   "execution_count": 4,
   "metadata": {},
   "outputs": [],
   "source": [
    "from transformers import AutoImageProcessor, AutoModelForSemanticSegmentation\n",
    "import matplotlib.pyplot as plt\n",
    "import os\n",
    "import utils\n",
    "from dataset import XRayDataset, get_xray_classes\n",
    "import numpy as np\n",
    "from torch.utils.data import DataLoader\n",
    "from tqdm import tqdm\n",
    "import torch\n",
    "import torch.nn.functional as F"
   ]
  },
  {
   "cell_type": "code",
   "execution_count": 5,
   "metadata": {},
   "outputs": [],
   "source": [
    "def encode_mask_to_rle(mask):\n",
    "    '''\n",
    "    mask: numpy array binary mask \n",
    "    1 - mask \n",
    "    0 - background\n",
    "    Returns encoded run length \n",
    "    '''\n",
    "    pixels = mask.flatten()\n",
    "    pixels = np.concatenate([[0], pixels, [0]])\n",
    "    runs = np.where(pixels[1:] != pixels[:-1])[0] + 1\n",
    "    runs[1::2] -= runs[::2]\n",
    "    return ' '.join(str(x) for x in runs)\n",
    "\n",
    "# RLE로 인코딩된 결과를 mask map으로 복원합니다.\n",
    "\n",
    "def decode_rle_to_mask(rle, height, width):\n",
    "    s = rle.split()\n",
    "    starts, lengths = [np.asarray(x, dtype=int) for x in (s[0:][::2], s[1:][::2])]\n",
    "    starts -= 1\n",
    "    ends = starts + lengths\n",
    "    img = np.zeros(height * width, dtype=np.uint8)\n",
    "    \n",
    "    for lo, hi in zip(starts, ends):\n",
    "        img[lo:hi] = 1\n",
    "    \n",
    "    return img.reshape(height, width)"
   ]
  },
  {
   "cell_type": "code",
   "execution_count": 6,
   "metadata": {},
   "outputs": [],
   "source": [
    "model_dir_path = '/data/ephemeral/home/Dongjin/level2-cv-semanticsegmentation-cv-02-lv3/Baseline/Dongjin/transformers_1119/trained_models/cont/upernet-convnext-small_cont_size_1024'\n",
    "\n",
    "conf_path = os.path.join(model_dir_path, 'exp.json')\n",
    "conf = utils.read_json(conf_path)\n",
    "conf['step_batch_size'] = 1\n",
    "\n",
    "saved_model_dir_path = utils.saved_model_dir_path(model_dir_path)\n",
    "image_processor = AutoImageProcessor.from_pretrained(saved_model_dir_path)\n",
    "model = AutoModelForSemanticSegmentation.from_pretrained(saved_model_dir_path).to(conf['device'])\n",
    "\n",
    "train_dataset = XRayDataset(mode='train', \n",
    "                            transforms=None, \n",
    "                            image_processor=image_processor,\n",
    "                            data_dir_path=conf['data_dir_path'],\n",
    "                            data_info_path=conf['train_json_path'])\n",
    "\n",
    "valid_dataset = XRayDataset(mode='valid', \n",
    "                            transforms=None, \n",
    "                            image_processor=image_processor,\n",
    "                            data_dir_path=conf['data_dir_path'],\n",
    "                            data_info_path=conf['valid_json_path'])\n",
    "\n",
    "test_dataset = XRayDataset(mode='test', \n",
    "                            transforms=None, \n",
    "                            image_processor=image_processor,\n",
    "                            data_dir_path=conf['data_dir_path'],\n",
    "                            data_info_path=conf['test_json_path'])\n",
    "\n",
    "train_loader = DataLoader(train_dataset, batch_size=conf['step_batch_size'], shuffle=True, num_workers=conf['num_workers'])\n",
    "valid_loader = DataLoader(valid_dataset, batch_size=conf['step_batch_size'], shuffle=False, num_workers=conf['num_workers'])\n",
    "test_loader = DataLoader(test_dataset, batch_size=conf['step_batch_size'], shuffle=False, num_workers=conf['num_workers'])"
   ]
  },
  {
   "cell_type": "code",
   "execution_count": 7,
   "metadata": {},
   "outputs": [],
   "source": [
    "\n",
    "def test(model, data_loader, thr=0.5):\n",
    "    xray_classes = get_xray_classes()\n",
    "    model.eval()\n",
    "\n",
    "    rles = []\n",
    "    filename_and_class = []\n",
    "    with torch.no_grad():\n",
    "        for batch, image_names in tqdm(data_loader, total=len(data_loader)):\n",
    "            inputs = batch[\"pixel_values\"].to('cuda')\n",
    "            outputs = model(inputs).logits\n",
    "            \n",
    "            outputs = F.interpolate(outputs, size=(2048, 2048), mode=\"bilinear\")\n",
    "            outputs = torch.sigmoid(outputs)\n",
    "            outputs = (outputs > thr).detach().cpu().numpy()\n",
    "            \n",
    "            for output, image_name in zip(outputs, image_names):\n",
    "                for c, segm in enumerate(output):\n",
    "                    rle = encode_mask_to_rle(segm)\n",
    "                    rles.append(rle)\n",
    "                    filename_and_class.append(f\"{xray_classes['idx2class'][c]}_{image_name}\")\n",
    "                    \n",
    "    return rles, filename_and_class"
   ]
  },
  {
   "cell_type": "code",
   "execution_count": 8,
   "metadata": {},
   "outputs": [
    {
     "name": "stderr",
     "output_type": "stream",
     "text": [
      "100%|██████████| 288/288 [04:54<00:00,  1.02s/it]\n"
     ]
    }
   ],
   "source": [
    "rles, filename_and_class = test(model, test_loader, thr=0.5)"
   ]
  },
  {
   "cell_type": "code",
   "execution_count": 9,
   "metadata": {},
   "outputs": [],
   "source": [
    "import pandas as pd\n",
    "\n",
    "classes, filename = zip(*[x.split(\"_\") for x in filename_and_class])\n",
    "image_name = [os.path.basename(f) for f in filename]\n",
    "\n",
    "df = pd.DataFrame({\n",
    "    \"image_name\": image_name,\n",
    "    \"class\": classes,\n",
    "    \"rle\": rles,\n",
    "})"
   ]
  },
  {
   "cell_type": "code",
   "execution_count": 10,
   "metadata": {},
   "outputs": [],
   "source": [
    "df.to_csv(\"output.csv\", index=False)"
   ]
  },
  {
   "cell_type": "code",
   "execution_count": 22,
   "metadata": {},
   "outputs": [
    {
     "data": {
      "text/plain": [
       "array([[[ 25,  24,  25, ..., 254, 254, 254],\n",
       "        [ 23,  26,  27, ..., 254, 254, 254],\n",
       "        [ 24,  27,  29, ..., 254, 254, 254],\n",
       "        ...,\n",
       "        [ 38,  39,  40, ...,  10,  11,  10],\n",
       "        [ 40,  41,  39, ...,  10,  11,   9],\n",
       "        [ 38,  36,  34, ...,  11,  12,  10]],\n",
       "\n",
       "       [[ 25,  24,  25, ..., 254, 254, 254],\n",
       "        [ 23,  26,  27, ..., 254, 254, 254],\n",
       "        [ 24,  27,  29, ..., 254, 254, 254],\n",
       "        ...,\n",
       "        [ 38,  39,  40, ...,  10,  11,  10],\n",
       "        [ 40,  41,  39, ...,  10,  11,   9],\n",
       "        [ 38,  36,  34, ...,  11,  12,  10]],\n",
       "\n",
       "       [[ 25,  24,  25, ..., 254, 254, 254],\n",
       "        [ 23,  26,  27, ..., 254, 254, 254],\n",
       "        [ 24,  27,  29, ..., 254, 254, 254],\n",
       "        ...,\n",
       "        [ 38,  39,  40, ...,  10,  11,  10],\n",
       "        [ 40,  41,  39, ...,  10,  11,   9],\n",
       "        [ 38,  36,  34, ...,  11,  12,  10]]], dtype=uint8)"
      ]
     },
     "execution_count": 22,
     "metadata": {},
     "output_type": "execute_result"
    }
   ],
   "source": [
    "test_dataset[0][0]['image']"
   ]
  },
  {
   "cell_type": "code",
   "execution_count": null,
   "metadata": {},
   "outputs": [],
   "source": []
  }
 ],
 "metadata": {
  "kernelspec": {
   "display_name": "torch",
   "language": "python",
   "name": "python3"
  },
  "language_info": {
   "codemirror_mode": {
    "name": "ipython",
    "version": 3
   },
   "file_extension": ".py",
   "mimetype": "text/x-python",
   "name": "python",
   "nbconvert_exporter": "python",
   "pygments_lexer": "ipython3",
   "version": "3.10.13"
  }
 },
 "nbformat": 4,
 "nbformat_minor": 2
}
