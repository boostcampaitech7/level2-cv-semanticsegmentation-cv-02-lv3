{
 "cells": [
  {
   "cell_type": "code",
   "execution_count": 70,
   "metadata": {},
   "outputs": [],
   "source": [
    "from dataset import XRayDataset\n",
    "import utils\n",
    "from transformers import AutoImageProcessor\n",
    "import matplotlib.pyplot as plt\n",
    "import matplotlib.patches as patches\n",
    "\n",
    "from glob import glob\n",
    "import cv2"
   ]
  },
  {
   "cell_type": "code",
   "execution_count": 31,
   "metadata": {},
   "outputs": [],
   "source": [
    "idx = 0\n",
    "model_name = 'openmmlab/upernet-convnext-small'\n",
    "crop_types = ['crop_finger', 'crop_backhand', 'crop_fingerbackhand', 'crop_arm']\n",
    "crop_info_path = '/data/ephemeral/home/Dongjin/level2-cv-semanticsegmentation-cv-02-lv3/Baseline/Dongjin/transformers_1122/notebook/crop/result/crop_info.json'\n",
    "crop_info = utils.read_json(crop_info_path)\n",
    "image_processor = AutoImageProcessor.from_pretrained(model_name)\n",
    "\n",
    "data_dir_path = '/data/ephemeral/home/data'\n",
    "data_info_path = '/data/ephemeral/home/Dongjin/level2-cv-semanticsegmentation-cv-02-lv3/Data/train_valid_split/splits/fold_0.json'\n"
   ]
  },
  {
   "cell_type": "code",
   "execution_count": 39,
   "metadata": {},
   "outputs": [],
   "source": [
    "def normalize(arr):\n",
    "    min, max = arr.min(), arr.max()\n",
    "    amp = max - min\n",
    "    arr = (arr - min) / amp\n",
    "    return arr"
   ]
  },
  {
   "cell_type": "code",
   "execution_count": null,
   "metadata": {},
   "outputs": [],
   "source": [
    "fig, axes = plt.subplots(1, 4, figsize=(16, 4))\n",
    "\n",
    "for i, crop_type in enumerate(crop_types):\n",
    "    train_dataset = XRayDataset(mode='train',\n",
    "                    crop_type=crop_type,\n",
    "                    crop_info=crop_info,\n",
    "                    transforms=None,\n",
    "                    image_processor=image_processor,\n",
    "                    data_dir_path=data_dir_path,\n",
    "                    data_info_path=data_info_path,\n",
    "                    debug=False)\n",
    "    \n",
    "    result, image_name = train_dataset[idx]\n",
    "    pixel_values = normalize(train_dataset[0][idx]['pixel_values'].permute(1, 2, 0))\n",
    "    axes[i].set_title(crop_type)\n",
    "    axes[i].imshow(pixel_values)\n",
    "\n",
    "fig.show()\n",
    "\n",
    "fig, ax = plt.subplots(1, 1, figsize=(6, 6))\n",
    "image_paths = glob(data_dir_path + f'/**/{image_name}', recursive=True)\n",
    "image = cv2.imread(image_paths[0])\n",
    "\n",
    "ax.set_title(image_name)\n",
    "ax.imshow(image)\n",
    "\n",
    "for k, v in crop_info[image_name].items():\n",
    "    x1, x2, y1, y2 = v\n",
    "    w, h = x2-x1, y2-y1\n",
    "\n",
    "    # rect = patches.Rectangle((x1, y1), w, h, linewidth=2, facecolor='none')\n",
    "    rect = patches.Rectangle((x1, y1), w, h, linewidth=1.5, edgecolor='b', facecolor='none')\n",
    "    ax.add_patch(rect)\n",
    "\n",
    "fig.show()"
   ]
  },
  {
   "cell_type": "code",
   "execution_count": null,
   "metadata": {},
   "outputs": [],
   "source": []
  }
 ],
 "metadata": {
  "kernelspec": {
   "display_name": "torch",
   "language": "python",
   "name": "python3"
  },
  "language_info": {
   "codemirror_mode": {
    "name": "ipython",
    "version": 3
   },
   "file_extension": ".py",
   "mimetype": "text/x-python",
   "name": "python",
   "nbconvert_exporter": "python",
   "pygments_lexer": "ipython3",
   "version": "3.10.13"
  }
 },
 "nbformat": 4,
 "nbformat_minor": 2
}
