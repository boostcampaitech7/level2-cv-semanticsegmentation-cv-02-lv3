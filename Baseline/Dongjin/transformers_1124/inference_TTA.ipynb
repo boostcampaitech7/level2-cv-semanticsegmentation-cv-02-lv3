{
 "cells": [
  {
   "cell_type": "code",
   "execution_count": 85,
   "metadata": {},
   "outputs": [
    {
     "name": "stdout",
     "output_type": "stream",
     "text": [
      "The autoreload extension is already loaded. To reload it, use:\n",
      "  %reload_ext autoreload\n"
     ]
    }
   ],
   "source": [
    "%load_ext autoreload\n",
    "%autoreload 2\n",
    "\n",
    "from inference_TTA import *"
   ]
  },
  {
   "cell_type": "code",
   "execution_count": 87,
   "metadata": {},
   "outputs": [
    {
     "name": "stderr",
     "output_type": "stream",
     "text": [
      "100%|██████████| 288/288 [04:46<00:00,  1.01it/s]\n"
     ]
    }
   ],
   "source": [
    "work_dir_path = \"\" #os.path.dirname(os.path.realpath(__file__))\n",
    "ensemble_conf_path = 'conf/ensemble/ensemble1.json'\n",
    "conf = load_ensemble_conf(work_dir_path, ensemble_conf_path)\n",
    "\n",
    "mode = 'test'\n",
    "ensemble_and_save(conf, mode)\n"
   ]
  },
  {
   "cell_type": "code",
   "execution_count": null,
   "metadata": {},
   "outputs": [],
   "source": []
  }
 ],
 "metadata": {
  "kernelspec": {
   "display_name": "Python 3",
   "language": "python",
   "name": "python3"
  },
  "language_info": {
   "codemirror_mode": {
    "name": "ipython",
    "version": 3
   },
   "file_extension": ".py",
   "mimetype": "text/x-python",
   "name": "python",
   "nbconvert_exporter": "python",
   "pygments_lexer": "ipython3",
   "version": "3.10.13"
  }
 },
 "nbformat": 4,
 "nbformat_minor": 2
}
