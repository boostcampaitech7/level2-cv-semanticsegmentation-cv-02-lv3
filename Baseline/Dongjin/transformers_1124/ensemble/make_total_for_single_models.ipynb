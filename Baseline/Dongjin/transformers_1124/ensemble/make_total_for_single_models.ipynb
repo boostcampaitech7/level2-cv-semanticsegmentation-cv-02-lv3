{
 "cells": [
  {
   "cell_type": "code",
   "execution_count": 93,
   "metadata": {},
   "outputs": [],
   "source": [
    "import sys\n",
    "sys.path.append('../')\n",
    "\n",
    "from inference import Inference, get_xray_classes\n",
    "import pandas as pd\n",
    "import os\n",
    "from glob import glob\n",
    "import utils"
   ]
  },
  {
   "cell_type": "code",
   "execution_count": 94,
   "metadata": {},
   "outputs": [],
   "source": [
    "def find_predict_paths(model_dir_paths, mode):\n",
    "    predict_paths = []\n",
    "\n",
    "    for model_dir_path in model_dir_paths:\n",
    "        paths = glob(model_dir_path + f'/{mode}*.csv')\n",
    "\n",
    "        if len(paths) != 1:\n",
    "            raise(Exception(f\"Number of the find paths is not one! - {len(paths)}\"))\n",
    "\n",
    "        predict_paths.append(paths[0])\n",
    "\n",
    "    return predict_paths\n",
    "\n",
    "def save_combined_predicts(predict_paths, save_path):\n",
    "    if len(predict_paths) != 3:\n",
    "        raise(Exception(\"Check predict_paths!\"))\n",
    "    \n",
    "    df = None\n",
    "    classes = get_xray_classes()\n",
    "\n",
    "    for file_path in predict_paths:\n",
    "        if df is None:\n",
    "            df = pd.read_csv(file_path)\n",
    "        else:\n",
    "            df = pd.concat([df, pd.read_csv(file_path)])\n",
    "\n",
    "    df['class_num'] = df['class'].map(classes['class2idx'])\n",
    "    df = df.sort_values(by=['image_name', 'class_num'])\n",
    "    df = df.drop(columns=['class_num'])\n",
    "\n",
    "    df.to_csv(save_path, index=False)"
   ]
  },
  {
   "cell_type": "code",
   "execution_count": 95,
   "metadata": {},
   "outputs": [],
   "source": [
    "prefix = '1125'\n",
    "mode = 'valid'\n",
    "trained_models_path = '../trained_models'\n",
    "save_dir_path = 'result/single_model'\n",
    "\n",
    "os.makedirs(save_dir_path, exist_ok=True)\n",
    "finger_model_dir_paths = glob(trained_models_path + '/*/*finger*')\n",
    "finger_model_dir_paths = sorted(finger_model_dir_paths)"
   ]
  },
  {
   "cell_type": "code",
   "execution_count": 96,
   "metadata": {},
   "outputs": [],
   "source": [
    "for finger_model_dir_path in finger_model_dir_paths:\n",
    "    if 'fold0' not in finger_model_dir_path:\n",
    "        continue\n",
    "    \n",
    "    save_name = f'{prefix}_{mode}_' + os.path.basename(finger_model_dir_path).replace(\"finger_\", \"\")\n",
    "    save_path = os.path.join(save_dir_path, save_name + '.csv')\n",
    "    save_json_path = os.path.join(save_dir_path, save_name + '.json')\n",
    "\n",
    "    backhand_model_dir_path = finger_model_dir_path.replace('finger', 'backhand')\n",
    "    arm_model_dir_path = finger_model_dir_path.replace('finger', 'arm')\n",
    "    model_dir_paths = [finger_model_dir_path, backhand_model_dir_path, arm_model_dir_path]\n",
    "    predict_paths = find_predict_paths(model_dir_paths, mode)\n",
    "    \n",
    "    dicts = {'model_dir_paths': model_dir_paths, 'predict_paths': predict_paths} # 파일 생성 정보\n",
    "\n",
    "    save_combined_predicts(predict_paths, save_path)\n",
    "    utils.save_json(dicts, save_json_path)\n",
    "    "
   ]
  },
  {
   "cell_type": "code",
   "execution_count": null,
   "metadata": {},
   "outputs": [],
   "source": []
  }
 ],
 "metadata": {
  "kernelspec": {
   "display_name": "torch",
   "language": "python",
   "name": "python3"
  },
  "language_info": {
   "codemirror_mode": {
    "name": "ipython",
    "version": 3
   },
   "file_extension": ".py",
   "mimetype": "text/x-python",
   "name": "python",
   "nbconvert_exporter": "python",
   "pygments_lexer": "ipython3",
   "version": "3.10.13"
  }
 },
 "nbformat": 4,
 "nbformat_minor": 2
}
