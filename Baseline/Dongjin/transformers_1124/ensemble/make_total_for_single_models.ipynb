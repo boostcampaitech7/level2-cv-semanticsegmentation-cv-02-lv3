{
 "cells": [
  {
   "cell_type": "code",
   "execution_count": 5,
   "metadata": {},
   "outputs": [],
   "source": [
    "import sys\n",
    "sys.path.append('../')\n",
    "\n",
    "from inference import Inference, get_xray_classes\n",
    "import pandas as pd\n",
    "import os\n",
    "from glob import glob\n",
    "import utils"
   ]
  },
  {
   "cell_type": "code",
   "execution_count": null,
   "metadata": {},
   "outputs": [],
   "source": [
    "def find_predict_paths(model_dir_paths, mode):\n",
    "    predict_paths = []\n",
    "\n",
    "    for model_dir_path in model_dir_paths:\n",
    "        paths = glob(model_dir_path + f'/{mode}*.csv')\n",
    "\n",
    "        if len(paths) != 1:\n",
    "            raise(Exception(f\"Number of the find paths is not one! - {paths}\"))\n",
    "\n",
    "        predict_paths.append(paths[0])\n",
    "\n",
    "    return predict_paths\n",
    "\n",
    "def save_combined_predicts(predict_paths, save_path):\n",
    "    if len(predict_paths) != 3:\n",
    "        raise(Exception(\"Check predict_paths!\"))\n",
    "    \n",
    "    df = None\n",
    "    classes = get_xray_classes()\n",
    "\n",
    "    for file_path in predict_paths:\n",
    "        if df is None:\n",
    "            df = pd.read_csv(file_path)\n",
    "        else:\n",
    "            df = pd.concat([df, pd.read_csv(file_path)])\n",
    "\n",
    "    df['class_num'] = df['class'].map(classes['class2idx'])\n",
    "    df = df.sort_values(by=['image_name', 'class_num'])\n",
    "    df = df.drop(columns=['class_num'])\n",
    "\n",
    "    df.to_csv(save_path, index=False)"
   ]
  },
  {
   "cell_type": "code",
   "execution_count": 7,
   "metadata": {},
   "outputs": [],
   "source": [
    "prefix = '1125'\n",
    "mode = 'valid'\n",
    "trained_models_path = '../trained_models'\n",
    "save_dir_path = 'result/single_model'\n",
    "\n",
    "os.makedirs(save_dir_path, exist_ok=True)\n",
    "finger_model_dir_paths = glob(trained_models_path + '/*/*finger*')\n",
    "finger_model_dir_paths = sorted(finger_model_dir_paths)"
   ]
  },
  {
   "cell_type": "code",
   "execution_count": 8,
   "metadata": {},
   "outputs": [
    {
     "ename": "Exception",
     "evalue": "Number of the find paths is not one! - 2",
     "output_type": "error",
     "traceback": [
      "\u001b[0;31m---------------------------------------------------------------------------\u001b[0m",
      "\u001b[0;31mException\u001b[0m                                 Traceback (most recent call last)",
      "Cell \u001b[0;32mIn[8], line 9\u001b[0m\n\u001b[1;32m      7\u001b[0m arm_model_dir_path \u001b[38;5;241m=\u001b[39m finger_model_dir_path\u001b[38;5;241m.\u001b[39mreplace(\u001b[38;5;124m'\u001b[39m\u001b[38;5;124mfinger\u001b[39m\u001b[38;5;124m'\u001b[39m, \u001b[38;5;124m'\u001b[39m\u001b[38;5;124marm\u001b[39m\u001b[38;5;124m'\u001b[39m)\n\u001b[1;32m      8\u001b[0m model_dir_paths \u001b[38;5;241m=\u001b[39m [finger_model_dir_path, backhand_model_dir_path, arm_model_dir_path]\n\u001b[0;32m----> 9\u001b[0m predict_paths \u001b[38;5;241m=\u001b[39m \u001b[43mfind_predict_paths\u001b[49m\u001b[43m(\u001b[49m\u001b[43mmodel_dir_paths\u001b[49m\u001b[43m,\u001b[49m\u001b[43m \u001b[49m\u001b[43mmode\u001b[49m\u001b[43m)\u001b[49m\n\u001b[1;32m     11\u001b[0m dicts \u001b[38;5;241m=\u001b[39m {\u001b[38;5;124m'\u001b[39m\u001b[38;5;124mmodel_dir_paths\u001b[39m\u001b[38;5;124m'\u001b[39m: model_dir_paths, \u001b[38;5;124m'\u001b[39m\u001b[38;5;124mpredict_paths\u001b[39m\u001b[38;5;124m'\u001b[39m: predict_paths} \u001b[38;5;66;03m# 파일 생성 정보\u001b[39;00m\n\u001b[1;32m     13\u001b[0m save_combined_predicts(predict_paths, save_path)\n",
      "Cell \u001b[0;32mIn[6], line 8\u001b[0m, in \u001b[0;36mfind_predict_paths\u001b[0;34m(model_dir_paths, mode)\u001b[0m\n\u001b[1;32m      5\u001b[0m     paths \u001b[38;5;241m=\u001b[39m glob(model_dir_path \u001b[38;5;241m+\u001b[39m \u001b[38;5;124mf\u001b[39m\u001b[38;5;124m'\u001b[39m\u001b[38;5;124m/\u001b[39m\u001b[38;5;132;01m{\u001b[39;00mmode\u001b[38;5;132;01m}\u001b[39;00m\u001b[38;5;124m*.csv\u001b[39m\u001b[38;5;124m'\u001b[39m)\n\u001b[1;32m      7\u001b[0m     \u001b[38;5;28;01mif\u001b[39;00m \u001b[38;5;28mlen\u001b[39m(paths) \u001b[38;5;241m!=\u001b[39m \u001b[38;5;241m1\u001b[39m:\n\u001b[0;32m----> 8\u001b[0m         \u001b[38;5;28;01mraise\u001b[39;00m(\u001b[38;5;167;01mException\u001b[39;00m(\u001b[38;5;124mf\u001b[39m\u001b[38;5;124m\"\u001b[39m\u001b[38;5;124mNumber of the find paths is not one! - \u001b[39m\u001b[38;5;132;01m{\u001b[39;00m\u001b[38;5;28mlen\u001b[39m(paths)\u001b[38;5;132;01m}\u001b[39;00m\u001b[38;5;124m\"\u001b[39m))\n\u001b[1;32m     10\u001b[0m     predict_paths\u001b[38;5;241m.\u001b[39mappend(paths[\u001b[38;5;241m0\u001b[39m])\n\u001b[1;32m     12\u001b[0m \u001b[38;5;28;01mreturn\u001b[39;00m predict_paths\n",
      "\u001b[0;31mException\u001b[0m: Number of the find paths is not one! - 2"
     ]
    }
   ],
   "source": [
    "for finger_model_dir_path in finger_model_dir_paths:    \n",
    "    save_name = f'{prefix}_{mode}_' + os.path.basename(finger_model_dir_path).replace(\"finger_\", \"\")\n",
    "    save_path = os.path.join(save_dir_path, save_name + '.csv')\n",
    "    save_json_path = os.path.join(save_dir_path, save_name + '.json')\n",
    "\n",
    "    backhand_model_dir_path = finger_model_dir_path.replace('finger', 'backhand')\n",
    "    arm_model_dir_path = finger_model_dir_path.replace('finger', 'arm')\n",
    "    model_dir_paths = [finger_model_dir_path, backhand_model_dir_path, arm_model_dir_path]\n",
    "    predict_paths = find_predict_paths(model_dir_paths, mode)\n",
    "    \n",
    "    dicts = {'model_dir_paths': model_dir_paths, 'predict_paths': predict_paths} # 파일 생성 정보\n",
    "\n",
    "    save_combined_predicts(predict_paths, save_path)\n",
    "    utils.save_json(dicts, save_json_path)\n",
    "    "
   ]
  },
  {
   "cell_type": "code",
   "execution_count": null,
   "metadata": {},
   "outputs": [],
   "source": []
  }
 ],
 "metadata": {
  "kernelspec": {
   "display_name": "torch",
   "language": "python",
   "name": "python3"
  },
  "language_info": {
   "codemirror_mode": {
    "name": "ipython",
    "version": 3
   },
   "file_extension": ".py",
   "mimetype": "text/x-python",
   "name": "python",
   "nbconvert_exporter": "python",
   "pygments_lexer": "ipython3",
   "version": "3.10.13"
  }
 },
 "nbformat": 4,
 "nbformat_minor": 2
}
