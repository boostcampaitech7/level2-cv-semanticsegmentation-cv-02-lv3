{
 "cells": [
  {
   "cell_type": "code",
   "execution_count": 1,
   "metadata": {},
   "outputs": [
    {
     "name": "stderr",
     "output_type": "stream",
     "text": [
      "/data/ephemeral/conda_envs/torch/lib/python3.10/site-packages/tqdm/auto.py:21: TqdmWarning: IProgress not found. Please update jupyter and ipywidgets. See https://ipywidgets.readthedocs.io/en/stable/user_install.html\n",
      "  from .autonotebook import tqdm as notebook_tqdm\n",
      "/data/ephemeral/conda_envs/torch/lib/python3.10/site-packages/albumentations/__init__.py:13: UserWarning: A new version of Albumentations is available: 1.4.21 (you have 1.4.18). Upgrade using: pip install -U albumentations. To disable automatic update checks, set the environment variable NO_ALBUMENTATIONS_UPDATE to 1.\n",
      "  check_for_updates()\n"
     ]
    }
   ],
   "source": [
    "import sys\n",
    "sys.path.append('../')\n",
    "\n",
    "from inference import Inference, get_xray_classes\n",
    "import pandas as pd\n",
    "import os"
   ]
  },
  {
   "cell_type": "code",
   "execution_count": 4,
   "metadata": {},
   "outputs": [],
   "source": [
    "prefix = \"1125\"\n",
    "mode = 'valid'\n",
    "crop_types = ['arm', 'finger', 'backhand']\n",
    "fold_name_format = 'ensemble_crop_{crop_type}_TTA_False_2-models'\n",
    "\n",
    "\n",
    "os.makedirs('result', exist_ok=True)\n",
    "save_path = f'result/{prefix}_{mode}_' + fold_name_format.replace('{crop_type}_', \"\") + \".csv\"\n",
    "\n",
    "file_paths = []\n",
    "for crop_type in crop_types:\n",
    "    fold_name = fold_name_format.format(crop_type=crop_type)\n",
    "    file_path = f'{fold_name}/{mode}_{fold_name}.csv'\n",
    "    file_paths.append(file_path)\n",
    "\n",
    "df = None\n",
    "classes = get_xray_classes()\n",
    "\n",
    "for file_path in file_paths:\n",
    "    if df is None:\n",
    "        df = pd.read_csv(file_path)\n",
    "    else:\n",
    "        df = pd.concat([df, pd.read_csv(file_path)])\n",
    "\n",
    "df['class_num'] = df['class'].map(classes['class2idx'])\n",
    "df = df.sort_values(by=['image_name', 'class_num'])\n",
    "df = df.drop(columns=['class_num'])\n",
    "\n",
    "df.to_csv(save_path, index=False)"
   ]
  },
  {
   "cell_type": "code",
   "execution_count": null,
   "metadata": {},
   "outputs": [],
   "source": []
  },
  {
   "cell_type": "code",
   "execution_count": null,
   "metadata": {},
   "outputs": [],
   "source": []
  }
 ],
 "metadata": {
  "kernelspec": {
   "display_name": "torch",
   "language": "python",
   "name": "python3"
  },
  "language_info": {
   "codemirror_mode": {
    "name": "ipython",
    "version": 3
   },
   "file_extension": ".py",
   "mimetype": "text/x-python",
   "name": "python",
   "nbconvert_exporter": "python",
   "pygments_lexer": "ipython3",
   "version": "3.10.13"
  }
 },
 "nbformat": 4,
 "nbformat_minor": 2
}
