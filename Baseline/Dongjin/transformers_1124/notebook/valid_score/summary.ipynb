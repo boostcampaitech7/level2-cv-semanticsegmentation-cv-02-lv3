{
 "cells": [
  {
   "cell_type": "code",
   "execution_count": 40,
   "metadata": {},
   "outputs": [],
   "source": [
    "import sys\n",
    "sys.path.append('../../')\n",
    "\n",
    "from glob import glob\n",
    "import utils\n",
    "import os\n",
    "import pandas as pd"
   ]
  },
  {
   "cell_type": "code",
   "execution_count": 41,
   "metadata": {},
   "outputs": [],
   "source": [
    "df = pd.DataFrame(columns=['name', 'total_dices_mean'])\n",
    "\n",
    "\n",
    "json_paths = glob('result/*.json')\n",
    "\n",
    "for json_path in json_paths:\n",
    "    name = os.path.splitext(os.path.basename(json_path))[0]\n",
    "    name = name.replace(\"1125_\", \"\")\n",
    "    name = name.replace(\"crop\", \"region\")\n",
    "    name = name.replace(\"valid_\", \"\")\n",
    "    json_data = utils.read_json(json_path)\n",
    "\n",
    "    total_dices_mean = json_data['total_dices_mean']\n",
    "    df.loc[len(df)] = [name, total_dices_mean]"
   ]
  },
  {
   "cell_type": "code",
   "execution_count": 42,
   "metadata": {},
   "outputs": [],
   "source": [
    "df = df.sort_values(by=['name'])\n",
    "df.to_csv(\"summary.csv\", index=False)"
   ]
  },
  {
   "cell_type": "code",
   "execution_count": null,
   "metadata": {},
   "outputs": [],
   "source": []
  }
 ],
 "metadata": {
  "kernelspec": {
   "display_name": "torch",
   "language": "python",
   "name": "python3"
  },
  "language_info": {
   "codemirror_mode": {
    "name": "ipython",
    "version": 3
   },
   "file_extension": ".py",
   "mimetype": "text/x-python",
   "name": "python",
   "nbconvert_exporter": "python",
   "pygments_lexer": "ipython3",
   "version": "3.10.13"
  }
 },
 "nbformat": 4,
 "nbformat_minor": 2
}
