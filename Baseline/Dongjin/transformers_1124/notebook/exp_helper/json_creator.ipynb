{
 "cells": [
  {
   "cell_type": "code",
   "execution_count": 16,
   "metadata": {},
   "outputs": [],
   "source": [
    "import sys\n",
    "sys.path.append('../../')\n",
    "\n",
    "import utils"
   ]
  },
  {
   "cell_type": "code",
   "execution_count": null,
   "metadata": {},
   "outputs": [],
   "source": [
    "crop_types = ['crop_finger', 'crop_backhand', 'crop_arm']\n",
    "max_epochs = [40, 30, 20]\n",
    "\n",
    "run_name_format = '{{model_name}}_{{crop_type}}_fold{i}'\n",
    "train_json_path_format = \"/data/ephemeral/home/Dongjin/level2-cv-semanticsegmentation-cv-02-lv3/Data/train_valid_split/splits/fold_{i}.json\"\n",
    "valid_json_path_fomrat = \"/data/ephemeral/home/Dongjin/level2-cv-semanticsegmentation-cv-02-lv3/Data/train_valid_split/splits/fold_{i}.json\"\n",
    "nfold = 5\n",
    "\n",
    "\n",
    "for i in range(nfold):\n",
    "    run_name = run_name_format.format(i=i)\n",
    "    train_json_path = train_json_path_format.format(i=i)\n",
    "    valid_json_path = valid_json_path_fomrat.format(i=i)\n",
    "\n",
    "    dicts = {'run_name_format': run_name, \n",
    "            'train_json_path': train_json_path,\n",
    "            'valid_json_path': valid_json_path}\n",
    "\n",
    "    for j, (crop_type, max_epoch) in enumerate(zip(crop_types, max_epochs)):\n",
    "        dicts['crop_type'] = crop_type\n",
    "        dicts['max_epoch'] = max_epoch\n",
    "\n",
    "        save_path = f'result/exp{i}_{j}.json'\n",
    "        utils.save_json(dicts, save_path)\n"
   ]
  },
  {
   "cell_type": "code",
   "execution_count": null,
   "metadata": {},
   "outputs": [],
   "source": []
  }
 ],
 "metadata": {
  "kernelspec": {
   "display_name": "torch",
   "language": "python",
   "name": "python3"
  },
  "language_info": {
   "codemirror_mode": {
    "name": "ipython",
    "version": 3
   },
   "file_extension": ".py",
   "mimetype": "text/x-python",
   "name": "python",
   "nbconvert_exporter": "python",
   "pygments_lexer": "ipython3",
   "version": "3.10.13"
  }
 },
 "nbformat": 4,
 "nbformat_minor": 2
}
