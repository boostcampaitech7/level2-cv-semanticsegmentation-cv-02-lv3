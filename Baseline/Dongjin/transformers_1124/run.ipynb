{
 "cells": [
  {
   "cell_type": "code",
   "execution_count": 4,
   "metadata": {},
   "outputs": [],
   "source": [
    "from inference import Inference\n",
    "from glob import glob"
   ]
  },
  {
   "cell_type": "code",
   "execution_count": 5,
   "metadata": {},
   "outputs": [],
   "source": [
    "dir_path = 'trained_models/openmmlab'\n",
    "model_dir_paths = glob(dir_path + '/**')\n"
   ]
  },
  {
   "cell_type": "code",
   "execution_count": 6,
   "metadata": {},
   "outputs": [
    {
     "name": "stdout",
     "output_type": "stream",
     "text": [
      "trained_models/openmmlab/upernet-convnext-small_crop_finger_fold0/valid_upernet-convnext-small_crop_finger_fold0_ep_40_vdice_0.9775.csv is already exist\n",
      "trained_models/openmmlab/upernet-convnext-small_crop_finger_fold0/test_upernet-convnext-small_crop_finger_fold0_ep_40_vdice_0.9775.csv is already exist\n",
      "trained_models/openmmlab/upernet-swin-small_crop_backhand_fold0/valid_upernet-swin-small_crop_backhand_fold0_ep_27_vdice_0.9500.csv is already exist\n",
      "trained_models/openmmlab/upernet-swin-small_crop_backhand_fold0/test_upernet-swin-small_crop_backhand_fold0_ep_27_vdice_0.9500.csv is already exist\n",
      "trained_models/openmmlab/upernet-convnext-small_crop_backhand_fold0/valid_upernet-convnext-small_crop_backhand_fold0_ep_25_vdice_0.9500.csv is already exist\n",
      "trained_models/openmmlab/upernet-convnext-small_crop_backhand_fold0/test_upernet-convnext-small_crop_backhand_fold0_ep_25_vdice_0.9500.csv is already exist\n",
      "trained_models/openmmlab/upernet-swin-small_crop_arm_fold0/valid_upernet-swin-small_crop_arm_fold0_ep_14_vdice_0.9899.csv is already exist\n",
      "trained_models/openmmlab/upernet-swin-small_crop_arm_fold0/test_upernet-swin-small_crop_arm_fold0_ep_14_vdice_0.9899.csv is already exist\n",
      "trained_models/openmmlab/upernet-swin-small_crop_finger_fold0/valid_upernet-swin-small_crop_finger_fold0_ep_40_vdice_0.9763.csv is already exist\n",
      "trained_models/openmmlab/upernet-swin-small_crop_finger_fold0/test_upernet-swin-small_crop_finger_fold0_ep_40_vdice_0.9763.csv is already exist\n",
      "trained_models/openmmlab/upernet-convnext-small_crop_arm_fold0/valid_upernet-convnext-small_crop_arm_fold0_ep_20_vdice_0.9904.csv is already exist\n",
      "trained_models/openmmlab/upernet-convnext-small_crop_arm_fold0/test_upernet-convnext-small_crop_arm_fold0_ep_20_vdice_0.9904.csv is already exist\n"
     ]
    }
   ],
   "source": [
    "for model_dir_path in model_dir_paths:\n",
    "    if 'fold1' in model_dir_path:\n",
    "        continue\n",
    "    inference = Inference(model_dir_path)\n",
    "    inference.inference_and_save(mode='valid')\n",
    "    inference.inference_and_save(mode='test')"
   ]
  },
  {
   "cell_type": "code",
   "execution_count": 7,
   "metadata": {},
   "outputs": [],
   "source": [
    "# import pandas as pd\n",
    "# from dataset import get_xray_classes\n",
    "\n",
    "# file_paths = []\n",
    "# file_paths.append('/data/ephemeral/home/Dongjin/level2-cv-semanticsegmentation-cv-02-lv3/Baseline/Dongjin/transformers_1124/trained_models/openmmlab/upernet-convnext-small_crop_arm_fold0/test_upernet-convnext-small_crop_arm_fold0_ep_20_vdice_0.9904.csv')\n",
    "# file_paths.append('/data/ephemeral/home/Dongjin/level2-cv-semanticsegmentation-cv-02-lv3/Baseline/Dongjin/transformers_1124/trained_models/openmmlab/upernet-convnext-small_crop_backhand_fold0/test_upernet-convnext-small_crop_backhand_fold0_ep_25_vdice_0.9500.csv')\n",
    "# file_paths.append('/data/ephemeral/home/Dongjin/level2-cv-semanticsegmentation-cv-02-lv3/Baseline/Dongjin/transformers_1124/trained_models/openmmlab/upernet-convnext-small_crop_finger_fold0/test_upernet-convnext-small_crop_finger_fold0_ep_40_vdice_0.9775.csv')"
   ]
  },
  {
   "cell_type": "code",
   "execution_count": 8,
   "metadata": {},
   "outputs": [],
   "source": [
    "# df = None\n",
    "# classes = get_xray_classes()\n",
    "\n",
    "# for file_path in file_paths:\n",
    "#     if df is None:\n",
    "#         df = pd.read_csv(file_path)\n",
    "#     else:\n",
    "#         df = pd.concat([df, pd.read_csv(file_path)])\n",
    "\n",
    "# df['class_num'] = df['class'].map(classes['class2idx'])\n",
    "# df = df.sort_values(by=['image_name', 'class_num'])\n",
    "\n",
    "# df.to_csv('1124_integrate_detected_result_fold0.csv', index=False)"
   ]
  },
  {
   "cell_type": "code",
   "execution_count": null,
   "metadata": {},
   "outputs": [],
   "source": []
  }
 ],
 "metadata": {
  "kernelspec": {
   "display_name": "Python 3",
   "language": "python",
   "name": "python3"
  },
  "language_info": {
   "codemirror_mode": {
    "name": "ipython",
    "version": 3
   },
   "file_extension": ".py",
   "mimetype": "text/x-python",
   "name": "python",
   "nbconvert_exporter": "python",
   "pygments_lexer": "ipython3",
   "version": "3.10.13"
  }
 },
 "nbformat": 4,
 "nbformat_minor": 2
}
