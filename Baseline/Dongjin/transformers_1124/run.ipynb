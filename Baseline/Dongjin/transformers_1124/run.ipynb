{
 "cells": [
  {
   "cell_type": "code",
   "execution_count": null,
   "metadata": {},
   "outputs": [],
   "source": [
    "from inference import Inference\n",
    "from glob import glob"
   ]
  },
  {
   "cell_type": "code",
   "execution_count": 2,
   "metadata": {},
   "outputs": [],
   "source": [
    "dir_path = 'trained_models/openmmlab'\n",
    "model_dir_paths = glob(dir_path + '/**')\n"
   ]
  },
  {
   "cell_type": "code",
   "execution_count": 3,
   "metadata": {},
   "outputs": [
    {
     "name": "stdout",
     "output_type": "stream",
     "text": [
      "trained_models/openmmlab/upernet-convnext-small_crop_finger_fold0/valid_upernet-convnext-small_crop_finger_fold0_ep_40_vdice_0.9775.csv is already exist\n",
      "trained_models/openmmlab/upernet-convnext-small_crop_finger_fold0/test_upernet-convnext-small_crop_finger_fold0_ep_40_vdice_0.9775.csv is already exist\n",
      "trained_models/openmmlab/upernet-convnext-small_crop_backhand_fold0/valid_upernet-convnext-small_crop_backhand_fold0_ep_25_vdice_0.9500.csv is already exist\n",
      "trained_models/openmmlab/upernet-convnext-small_crop_backhand_fold0/test_upernet-convnext-small_crop_backhand_fold0_ep_25_vdice_0.9500.csv is already exist\n",
      "trained_models/openmmlab/upernet-convnext-small_crop_arm_fold0/valid_upernet-convnext-small_crop_arm_fold0_ep_20_vdice_0.9904.csv is already exist\n",
      "trained_models/openmmlab/upernet-convnext-small_crop_arm_fold0/test_upernet-convnext-small_crop_arm_fold0_ep_20_vdice_0.9904.csv is already exist\n"
     ]
    }
   ],
   "source": [
    "for model_dir_path in model_dir_paths:\n",
    "    if 'fold1' in model_dir_path:\n",
    "        continue\n",
    "    inference = Inference(model_dir_path)\n",
    "    inference.inference_and_save(mode='valid')\n",
    "    inference.inference_and_save(mode='test')"
   ]
  },
  {
   "cell_type": "code",
   "execution_count": 15,
   "metadata": {},
   "outputs": [],
   "source": [
    "import pandas as pd\n",
    "from dataset import get_xray_classes\n",
    "\n",
    "file_paths = []\n",
    "file_paths.append('/data/ephemeral/home/Dongjin/level2-cv-semanticsegmentation-cv-02-lv3/Baseline/Dongjin/transformers_1124/trained_models/openmmlab/upernet-convnext-small_crop_arm_fold0/test_upernet-convnext-small_crop_arm_fold0_ep_20_vdice_0.9904.csv')\n",
    "file_paths.append('/data/ephemeral/home/Dongjin/level2-cv-semanticsegmentation-cv-02-lv3/Baseline/Dongjin/transformers_1124/trained_models/openmmlab/upernet-convnext-small_crop_backhand_fold0/test_upernet-convnext-small_crop_backhand_fold0_ep_25_vdice_0.9500.csv')\n",
    "file_paths.append('/data/ephemeral/home/Dongjin/level2-cv-semanticsegmentation-cv-02-lv3/Baseline/Dongjin/transformers_1124/trained_models/openmmlab/upernet-convnext-small_crop_finger_fold0/test_upernet-convnext-small_crop_finger_fold0_ep_40_vdice_0.9775.csv')"
   ]
  },
  {
   "cell_type": "code",
   "execution_count": null,
   "metadata": {},
   "outputs": [],
   "source": [
    "df = None\n",
    "classes = get_xray_classes()\n",
    "\n",
    "for file_path in file_paths:\n",
    "    if df is None:\n",
    "        df = pd.read_csv(file_path)\n",
    "    else:\n",
    "        df = pd.concat([df, pd.read_csv(file_path)])\n",
    "\n",
    "df['class_num'] = df['class'].map(classes['class2idx'])\n",
    "df = df.sort_values(by=['image_name', 'class_num'])\n",
    "\n",
    "df.to_csv('1124_integrate_detected_result_fold0.csv', index=False)"
   ]
  },
  {
   "cell_type": "code",
   "execution_count": 25,
   "metadata": {},
   "outputs": [
    {
     "data": {
      "text/html": [
       "<div>\n",
       "<style scoped>\n",
       "    .dataframe tbody tr th:only-of-type {\n",
       "        vertical-align: middle;\n",
       "    }\n",
       "\n",
       "    .dataframe tbody tr th {\n",
       "        vertical-align: top;\n",
       "    }\n",
       "\n",
       "    .dataframe thead th {\n",
       "        text-align: right;\n",
       "    }\n",
       "</style>\n",
       "<table border=\"1\" class=\"dataframe\">\n",
       "  <thead>\n",
       "    <tr style=\"text-align: right;\">\n",
       "      <th></th>\n",
       "      <th>image_name</th>\n",
       "      <th>class</th>\n",
       "      <th>rle</th>\n",
       "      <th>class_num</th>\n",
       "    </tr>\n",
       "  </thead>\n",
       "  <tbody>\n",
       "    <tr>\n",
       "      <th>0</th>\n",
       "      <td>image1661319116107.png</td>\n",
       "      <td>finger-1</td>\n",
       "      <td>1812949 2 1814994 8 1817039 14 1819085 19 1821...</td>\n",
       "      <td>0</td>\n",
       "    </tr>\n",
       "    <tr>\n",
       "      <th>1</th>\n",
       "      <td>image1661319116107.png</td>\n",
       "      <td>finger-2</td>\n",
       "      <td>2073144 8 2075188 15 2077234 19 2079280 24 208...</td>\n",
       "      <td>1</td>\n",
       "    </tr>\n",
       "    <tr>\n",
       "      <th>2</th>\n",
       "      <td>image1661319116107.png</td>\n",
       "      <td>finger-3</td>\n",
       "      <td>2538135 5 2540182 10 2542229 13 2544276 16 254...</td>\n",
       "      <td>2</td>\n",
       "    </tr>\n",
       "    <tr>\n",
       "      <th>3</th>\n",
       "      <td>image1661319116107.png</td>\n",
       "      <td>finger-4</td>\n",
       "      <td>826067 11 828112 16 830157 22 832203 26 834250...</td>\n",
       "      <td>3</td>\n",
       "    </tr>\n",
       "    <tr>\n",
       "      <th>4</th>\n",
       "      <td>image1661319116107.png</td>\n",
       "      <td>finger-5</td>\n",
       "      <td>1082109 6 1084154 11 1086198 16 1088242 21 109...</td>\n",
       "      <td>4</td>\n",
       "    </tr>\n",
       "    <tr>\n",
       "      <th>...</th>\n",
       "      <td>...</td>\n",
       "      <td>...</td>\n",
       "      <td>...</td>\n",
       "      <td>...</td>\n",
       "    </tr>\n",
       "    <tr>\n",
       "      <th>2301</th>\n",
       "      <td>image1667354424553.png</td>\n",
       "      <td>Lunate</td>\n",
       "      <td>2882566 9 2884608 20 2886651 28 2888697 33 289...</td>\n",
       "      <td>24</td>\n",
       "    </tr>\n",
       "    <tr>\n",
       "      <th>2302</th>\n",
       "      <td>image1667354424553.png</td>\n",
       "      <td>Triquetrum</td>\n",
       "      <td>2794387 9 2796432 16 2798477 23 2800523 28 280...</td>\n",
       "      <td>25</td>\n",
       "    </tr>\n",
       "    <tr>\n",
       "      <th>2303</th>\n",
       "      <td>image1667354424553.png</td>\n",
       "      <td>Pisiform</td>\n",
       "      <td>2839459 8 2841505 16 2843551 21 2845597 25 284...</td>\n",
       "      <td>26</td>\n",
       "    </tr>\n",
       "    <tr>\n",
       "      <th>574</th>\n",
       "      <td>image1667354424553.png</td>\n",
       "      <td>Radius</td>\n",
       "      <td>2964641 4 2966686 9 2968732 13 2970779 16 2972...</td>\n",
       "      <td>27</td>\n",
       "    </tr>\n",
       "    <tr>\n",
       "      <th>575</th>\n",
       "      <td>image1667354424553.png</td>\n",
       "      <td>Ulna</td>\n",
       "      <td>3107710 6 3109755 11 3111801 15 3113848 17 311...</td>\n",
       "      <td>28</td>\n",
       "    </tr>\n",
       "  </tbody>\n",
       "</table>\n",
       "<p>8352 rows × 4 columns</p>\n",
       "</div>"
      ],
      "text/plain": [
       "                  image_name       class  \\\n",
       "0     image1661319116107.png    finger-1   \n",
       "1     image1661319116107.png    finger-2   \n",
       "2     image1661319116107.png    finger-3   \n",
       "3     image1661319116107.png    finger-4   \n",
       "4     image1661319116107.png    finger-5   \n",
       "...                      ...         ...   \n",
       "2301  image1667354424553.png      Lunate   \n",
       "2302  image1667354424553.png  Triquetrum   \n",
       "2303  image1667354424553.png    Pisiform   \n",
       "574   image1667354424553.png      Radius   \n",
       "575   image1667354424553.png        Ulna   \n",
       "\n",
       "                                                    rle  class_num  \n",
       "0     1812949 2 1814994 8 1817039 14 1819085 19 1821...          0  \n",
       "1     2073144 8 2075188 15 2077234 19 2079280 24 208...          1  \n",
       "2     2538135 5 2540182 10 2542229 13 2544276 16 254...          2  \n",
       "3     826067 11 828112 16 830157 22 832203 26 834250...          3  \n",
       "4     1082109 6 1084154 11 1086198 16 1088242 21 109...          4  \n",
       "...                                                 ...        ...  \n",
       "2301  2882566 9 2884608 20 2886651 28 2888697 33 289...         24  \n",
       "2302  2794387 9 2796432 16 2798477 23 2800523 28 280...         25  \n",
       "2303  2839459 8 2841505 16 2843551 21 2845597 25 284...         26  \n",
       "574   2964641 4 2966686 9 2968732 13 2970779 16 2972...         27  \n",
       "575   3107710 6 3109755 11 3111801 15 3113848 17 311...         28  \n",
       "\n",
       "[8352 rows x 4 columns]"
      ]
     },
     "execution_count": 25,
     "metadata": {},
     "output_type": "execute_result"
    }
   ],
   "source": [
    "df"
   ]
  },
  {
   "cell_type": "code",
   "execution_count": 22,
   "metadata": {},
   "outputs": [
    {
     "data": {
      "text/plain": [
       "{'finger-1': 0,\n",
       " 'finger-2': 1,\n",
       " 'finger-3': 2,\n",
       " 'finger-4': 3,\n",
       " 'finger-5': 4,\n",
       " 'finger-6': 5,\n",
       " 'finger-7': 6,\n",
       " 'finger-8': 7,\n",
       " 'finger-9': 8,\n",
       " 'finger-10': 9,\n",
       " 'finger-11': 10,\n",
       " 'finger-12': 11,\n",
       " 'finger-13': 12,\n",
       " 'finger-14': 13,\n",
       " 'finger-15': 14,\n",
       " 'finger-16': 15,\n",
       " 'finger-17': 16,\n",
       " 'finger-18': 17,\n",
       " 'finger-19': 18,\n",
       " 'Trapezium': 19,\n",
       " 'Trapezoid': 20,\n",
       " 'Capitate': 21,\n",
       " 'Hamate': 22,\n",
       " 'Scaphoid': 23,\n",
       " 'Lunate': 24,\n",
       " 'Triquetrum': 25,\n",
       " 'Pisiform': 26,\n",
       " 'Radius': 27,\n",
       " 'Ulna': 28}"
      ]
     },
     "execution_count": 22,
     "metadata": {},
     "output_type": "execute_result"
    }
   ],
   "source": [
    "classes['class2idx']"
   ]
  },
  {
   "cell_type": "code",
   "execution_count": null,
   "metadata": {},
   "outputs": [],
   "source": []
  }
 ],
 "metadata": {
  "kernelspec": {
   "display_name": "torch",
   "language": "python",
   "name": "python3"
  },
  "language_info": {
   "codemirror_mode": {
    "name": "ipython",
    "version": 3
   },
   "file_extension": ".py",
   "mimetype": "text/x-python",
   "name": "python",
   "nbconvert_exporter": "python",
   "pygments_lexer": "ipython3",
   "version": "3.10.13"
  }
 },
 "nbformat": 4,
 "nbformat_minor": 2
}
